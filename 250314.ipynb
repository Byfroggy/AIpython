{
  "nbformat": 4,
  "nbformat_minor": 0,
  "metadata": {
    "colab": {
      "provenance": []
    },
    "kernelspec": {
      "name": "python3",
      "display_name": "Python 3"
    },
    "language_info": {
      "name": "python"
    }
  },
  "cells": [
    {
      "cell_type": "code",
      "execution_count": 12,
      "metadata": {
        "colab": {
          "base_uri": "https://localhost:8080/"
        },
        "id": "l0vXN1wBdIMl",
        "outputId": "ce5d1b7b-458d-4cd5-e192-fbddf6088f52"
      },
      "outputs": [
        {
          "output_type": "stream",
          "name": "stdout",
          "text": [
            "반지름이 5인 원의 면적은 78.5398입니다\n",
            "100분은 1시간 40분 입니다\n"
          ]
        }
      ],
      "source": [
        "#1. 반지름이 5인 원의 면적을 구하시오\n",
        "r = 5\n",
        "\n",
        "circle = r * r * 3.141592\n",
        "print(\"반지름이 \"+str(r)+\"인 원의 면적은 \"+str(circle)+\"입니다\")\n",
        "\n",
        "#2. 분을 시간과 분으로 변환하여 출력하시오\n",
        "min=100\n",
        "\n",
        "hour=min//60\n",
        "realMin=min%60\n",
        "print(str(min)+\"분은 \"+str(hour)+\"시간 \"+str(realMin)+\"분 입니다\")\n"
      ]
    }
  ]
}