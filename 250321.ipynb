{
  "nbformat": 4,
  "nbformat_minor": 0,
  "metadata": {
    "colab": {
      "provenance": [],
      "authorship_tag": "ABX9TyOL55aUjwaTwgLe2am1GG+z",
      "include_colab_link": true
    },
    "kernelspec": {
      "name": "python3",
      "display_name": "Python 3"
    },
    "language_info": {
      "name": "python"
    }
  },
  "cells": [
    {
      "cell_type": "markdown",
      "metadata": {
        "id": "view-in-github",
        "colab_type": "text"
      },
      "source": [
        "<a href=\"https://colab.research.google.com/github/Byfroggy/AIpython/blob/main/250321.ipynb\" target=\"_parent\"><img src=\"https://colab.research.google.com/assets/colab-badge.svg\" alt=\"Open In Colab\"/></a>"
      ]
    },
    {
      "cell_type": "code",
      "source": [
        "age=int(input(\"나이를 입력\"))\n",
        "print(str(age)+\"살입니다.\")"
      ],
      "metadata": {
        "colab": {
          "base_uri": "https://localhost:8080/"
        },
        "id": "G0p31P2GaGhs",
        "outputId": "caac40b0-fa8d-4ae0-90fd-6707b9291b86"
      },
      "execution_count": 5,
      "outputs": [
        {
          "output_type": "stream",
          "name": "stdout",
          "text": [
            "나이를 입력3\n",
            "3살입니다.\n"
          ]
        }
      ]
    },
    {
      "cell_type": "code",
      "execution_count": 4,
      "metadata": {
        "colab": {
          "base_uri": "https://localhost:8080/"
        },
        "id": "N03hRsGKXCOc",
        "outputId": "eeaa0cc3-f860-4f25-f750-c6f0a653b688"
      },
      "outputs": [
        {
          "output_type": "stream",
          "name": "stdout",
          "text": [
            "숫자를 입력0\n",
            "0은 0입니다.\n"
          ]
        }
      ],
      "source": [
        "num=int(input(\"숫자를 입력\"))\n",
        "if num>0:\n",
        "  print(str(num)+\"은 양수입니다.\")\n",
        "elif num<0:\n",
        "  print(str(num)+\"은 음수입니다.\")\n",
        "else:\n",
        "  print(str(num)+\"은 0입니다.\")"
      ]
    },
    {
      "cell_type": "code",
      "source": [
        "avokado=str(input(\"마트에 가서 우유 사오고 아보카도 있으면 6개 사와(있었어/없었어)\"))\n",
        "if avokado==\"있었어\":\n",
        "  print(\"우유 6개\")\n",
        "else:\n",
        "  print(\"우유 1개\")\n"
      ],
      "metadata": {
        "colab": {
          "base_uri": "https://localhost:8080/"
        },
        "id": "zeZKwkTfdR-Z",
        "outputId": "3f520de0-c5f8-4905-ee0c-b721a63e2623"
      },
      "execution_count": 10,
      "outputs": [
        {
          "output_type": "stream",
          "name": "stdout",
          "text": [
            "마트에 가서 우유 사오고 아보카도 있으면 6개 사와(있었어/없었어)있었어\n",
            "우유 6개\n"
          ]
        }
      ]
    },
    {
      "cell_type": "code",
      "source": [
        "num=int(input(\"숫자를 입력\"))\n",
        "if (num%2)==0:\n",
        "  print(\"짝수\")\n",
        "else:\n",
        "  print(\"홀수\")"
      ],
      "metadata": {
        "id": "RlhFrGiLd8CI"
      },
      "execution_count": null,
      "outputs": []
    },
    {
      "cell_type": "code",
      "source": [
        "a,b=input().split()\n",
        "a,b=int(a),int(b)\n",
        "if ((a==1) or (a==2) or (a==3)) and ((b==1) or (b==2) or (b==3)):\n",
        "  if a==b:\n",
        "    print(\"무승부\")\n",
        "  elif (a==2) or (b==2):\n",
        "    if a > b:\n",
        "      print(\"A승B패\")\n",
        "    else:\n",
        "      print(\"B승A패\")\n",
        "  else:\n",
        "    if a < b:\n",
        "      print(\"A승B패\")\n",
        "    else:\n",
        "      print(\"B승A패\")\n",
        "else:\n",
        "  print(\"잘못된입력\")\n",
        "\n",
        "\n"
      ],
      "metadata": {
        "colab": {
          "base_uri": "https://localhost:8080/"
        },
        "id": "8T5P_JOyh5sZ",
        "outputId": "86ab7e5a-82df-4d14-80d8-20b6b360a617"
      },
      "execution_count": 57,
      "outputs": [
        {
          "output_type": "stream",
          "name": "stdout",
          "text": [
            "3 1\n",
            "B승A패\n"
          ]
        }
      ]
    }
  ]
}