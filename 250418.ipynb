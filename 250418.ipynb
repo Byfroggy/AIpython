{
  "nbformat": 4,
  "nbformat_minor": 0,
  "metadata": {
    "colab": {
      "provenance": [],
      "authorship_tag": "ABX9TyMe9TgKh8scMCYJtmuN7EbN",
      "include_colab_link": true
    },
    "kernelspec": {
      "name": "python3",
      "display_name": "Python 3"
    },
    "language_info": {
      "name": "python"
    }
  },
  "cells": [
    {
      "cell_type": "markdown",
      "metadata": {
        "id": "view-in-github",
        "colab_type": "text"
      },
      "source": [
        "<a href=\"https://colab.research.google.com/github/Byfroggy/AIpython/blob/main/250418.ipynb\" target=\"_parent\"><img src=\"https://colab.research.google.com/assets/colab-badge.svg\" alt=\"Open In Colab\"/></a>"
      ]
    },
    {
      "cell_type": "code",
      "source": [
        "student = {\n",
        "    'name' : '김민수',\n",
        "    'age' : 20,\n",
        "    'major': '컴퓨터공학'\n",
        "}\n",
        "\n",
        "print(f\"학생 정보 딕셔너리: {student}\")\n",
        "\n",
        "name = student['name']\n",
        "print(f\"이름: {name}\")\n",
        "age = student['age']\n",
        "print(f\"이름: {age}\")\n",
        "major = student['major']\n",
        "print(f\"이름: {major}\")"
      ],
      "metadata": {
        "colab": {
          "base_uri": "https://localhost:8080/"
        },
        "id": "nvpH2Cw2eOmI",
        "outputId": "9bb1c6ea-6f6b-47ec-9efd-d5511b111c0e"
      },
      "execution_count": 4,
      "outputs": [
        {
          "output_type": "stream",
          "name": "stdout",
          "text": [
            "학생 정보 딕셔너리: {'name': '김민수', 'age': 20, 'major': '컴퓨터공학'}\n",
            "이름: 김민수\n",
            "이름: 20\n",
            "이름: 컴퓨터공학\n"
          ]
        }
      ]
    },
    {
      "cell_type": "code",
      "source": [
        "from re import S\n",
        "print(f\"원래 학생 정보 딕셔너리: {student}\")\n",
        "\n",
        "student['grade'] = 4.0 # 새로운 키와 값 추가\n",
        "print(f\"요소 추가 후 딕셔너리: {student}\")\n",
        "del student['major'] # 키와 값 삭제\n",
        "print(f\"요소 삭제 후 딕셔너리: {student}\")"
      ],
      "metadata": {
        "colab": {
          "base_uri": "https://localhost:8080/"
        },
        "id": "cbdSkoHtfLJo",
        "outputId": "0ac2f86e-4dce-44b0-a6d1-60aa268693c9"
      },
      "execution_count": 6,
      "outputs": [
        {
          "output_type": "stream",
          "name": "stdout",
          "text": [
            "원래 학생 정보 딕셔너리: {'name': '김민수', 'age': 20, 'major': '컴퓨터공학', 'grade': 4.0}\n",
            "요소 추가 후 딕셔너리: {'name': '김민수', 'age': 20, 'major': '컴퓨터공학', 'grade': 4.0}\n",
            "요소 삭제 후 딕셔너리: {'name': '김민수', 'age': 20, 'grade': 4.0}\n"
          ]
        }
      ]
    },
    {
      "cell_type": "code",
      "source": [
        "fruit_prices = {\n",
        "    '사과': 1500,\n",
        "    '바나나': 800,\n",
        "    '딸기': 3000,\n",
        "    '오렌지': 1200\n",
        "}\n",
        "\n",
        "print(\"과일 가격 정보:\")\n",
        "for fruit, price in fruit_prices.items():\n",
        "  print(f\"{fruit}: {price}원\")\n",
        "\n",
        "print(\"\\n과일 목록:\")\n",
        "for fruit in fruit_prices.keys():\n",
        "  print(fruit)\n",
        "\n",
        "print(\"\\n가격 목록:\")\n",
        "for price in fruit_prices.values():\n",
        "  print(price)"
      ],
      "metadata": {
        "colab": {
          "base_uri": "https://localhost:8080/"
        },
        "id": "ByJfT0Iyf1UD",
        "outputId": "833dbaf9-ced7-4230-eb44-b596e1647c11"
      },
      "execution_count": 12,
      "outputs": [
        {
          "output_type": "stream",
          "name": "stdout",
          "text": [
            "과일 가격 정보:\n",
            "사과: 1500원\n",
            "바나나: 800원\n",
            "딸기: 3000원\n",
            "오렌지: 1200원\n",
            "\n",
            "과일 목록:\n",
            "사과\n",
            "바나나\n",
            "딸기\n",
            "오렌지\n",
            "\n",
            "가격 목록:\n",
            "1500\n",
            "800\n",
            "3000\n",
            "1200\n"
          ]
        }
      ]
    },
    {
      "cell_type": "code",
      "source": [],
      "metadata": {
        "id": "NzN8Wg2RlF4w"
      },
      "execution_count": null,
      "outputs": []
    },
    {
      "cell_type": "code",
      "source": [
        "A, B = map(int, input().split())\n",
        "print(A+B)"
      ],
      "metadata": {
        "colab": {
          "base_uri": "https://localhost:8080/"
        },
        "id": "kCKd0wfHk00q",
        "outputId": "efce5bb1-d5ea-4784-f492-fa460a0b6ae8"
      },
      "execution_count": 14,
      "outputs": [
        {
          "output_type": "stream",
          "name": "stdout",
          "text": [
            "1 2\n",
            "3\n"
          ]
        }
      ]
    }
  ]
}