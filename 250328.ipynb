{
  "nbformat": 4,
  "nbformat_minor": 0,
  "metadata": {
    "colab": {
      "provenance": [],
      "authorship_tag": "ABX9TyNdsw7Jb1aOLmwlj+hqQtSv",
      "include_colab_link": true
    },
    "kernelspec": {
      "name": "python3",
      "display_name": "Python 3"
    },
    "language_info": {
      "name": "python"
    }
  },
  "cells": [
    {
      "cell_type": "markdown",
      "metadata": {
        "id": "view-in-github",
        "colab_type": "text"
      },
      "source": [
        "<a href=\"https://colab.research.google.com/github/Byfroggy/AIpython/blob/main/250328.ipynb\" target=\"_parent\"><img src=\"https://colab.research.google.com/assets/colab-badge.svg\" alt=\"Open In Colab\"/></a>"
      ]
    },
    {
      "cell_type": "code",
      "execution_count": 3,
      "metadata": {
        "colab": {
          "base_uri": "https://localhost:8080/"
        },
        "id": "i1bnArZ7R8Ic",
        "outputId": "21723663-dd73-49d6-fcaa-ac2ebc66f6e2"
      },
      "outputs": [
        {
          "output_type": "stream",
          "name": "stdout",
          "text": [
            "첫번째 정수를 입력하세요: 2\n",
            "두번째 정수를 입력하세요: 2\n",
            "2와(과) 2은(는) 같습니다.\n"
          ]
        }
      ],
      "source": [
        "num1 = int(input(\"첫번째 정수를 입력하세요: \"))\n",
        "num2 = int(input(\"두번째 정수를 입력하세요: \"))\n",
        "\n",
        "if num1>num2:\n",
        "  print(f\"{num1}은(는) {num2}보다 큽니다.\")\n",
        "elif num1<num2:\n",
        "  print(f\"{num1}은(는) {num2}보다 작습니다.\")\n",
        "else:\n",
        "  print(f\"{num1}와(과) {num2}은(는) 같습니다.\")"
      ]
    },
    {
      "cell_type": "code",
      "source": [
        "num1 = int(input(\"첫번째 정수를 입력하세요: \"))\n",
        "num2 = int(input(\"두번째 정수를 입력하세요: \"))\n",
        "num3 = int(input(\"세번째 정수를 입력하세요: \"))\n",
        "\n",
        "maxN = num1\n",
        "\n",
        "if maxN<num2:\n",
        "  maxN=num2\n",
        "\n",
        "if maxN<num3:\n",
        "  maxN=num3\n",
        "\n",
        "print(f\"{num1}, {num2}, {num3} 중 가장 큰 수는 {maxN}입니다.\")"
      ],
      "metadata": {
        "colab": {
          "base_uri": "https://localhost:8080/"
        },
        "id": "KOtjXKCsYVYe",
        "outputId": "53e3b82f-c926-42c3-b41d-465c803090ca"
      },
      "execution_count": 7,
      "outputs": [
        {
          "output_type": "stream",
          "name": "stdout",
          "text": [
            "첫번째 정수를 입력하세요: 1\n",
            "두번째 정수를 입력하세요: 2\n",
            "세번째 정수를 입력하세요: 3\n",
            "1, 2, 3 중 가장 큰 수는 3입니다.\n"
          ]
        }
      ]
    },
    {
      "cell_type": "code",
      "source": [
        "score = int(input(\"시험 점수 (0~100)를 입력하세요: \"))\n",
        "gradeList = 'A', 'B', 'C', 'D', 'F'\n",
        "cutline = 90\n",
        "\n",
        "for i in range(5):\n",
        "  if score >= cutline:\n",
        "    grade = gradeList[i]\n",
        "    break\n",
        "  else:\n",
        "    cutline -= 10\n",
        "\n",
        "print(\"당신의 학점은 \"+grade+\"입니다.\")"
      ],
      "metadata": {
        "colab": {
          "base_uri": "https://localhost:8080/"
        },
        "id": "nGxJB-9dfSTd",
        "outputId": "c45dd5b9-f658-4172-f848-b606b1020365"
      },
      "execution_count": 33,
      "outputs": [
        {
          "output_type": "stream",
          "name": "stdout",
          "text": [
            "시험 점수 (0~100)를 입력하세요: 59\n",
            "당신의 학점은 F입니다.\n"
          ]
        }
      ]
    },
    {
      "cell_type": "code",
      "source": [
        "year = int(input(\"연도를 입력하세요: \"))\n",
        "\n",
        "if(year%4==0 and year%100!=0) or (year%400==0):\n",
        "  print(f\"{year}년은 윤년입니다.\")\n",
        "else:\n",
        "  print(f\"{year}년은 윤년이 아닙니다.\")"
      ],
      "metadata": {
        "colab": {
          "base_uri": "https://localhost:8080/"
        },
        "id": "lxmgH37mf8nC",
        "outputId": "87daf4e9-0c2a-4f4d-e4cd-dad6f918fa17"
      },
      "execution_count": 41,
      "outputs": [
        {
          "output_type": "stream",
          "name": "stdout",
          "text": [
            "연도를 입력하세요: 2004\n",
            "2004년은 윤년입니다.\n"
          ]
        }
      ]
    },
    {
      "cell_type": "code",
      "source": [
        "count = 0\n",
        "while count<5:\n",
        "  print(count)\n",
        "  count+=1"
      ],
      "metadata": {
        "colab": {
          "base_uri": "https://localhost:8080/"
        },
        "id": "IuoAmIJkk3Tw",
        "outputId": "93a6470b-701c-4965-86d0-4b18b30e6357"
      },
      "execution_count": 47,
      "outputs": [
        {
          "output_type": "stream",
          "name": "stdout",
          "text": [
            "0\n",
            "1\n",
            "2\n",
            "3\n",
            "4\n"
          ]
        }
      ]
    },
    {
      "cell_type": "code",
      "source": [
        "# 1부터 N까지의 합 계산하기\n",
        "# 단순 더하기 방법\n",
        "n = int(input(\"양의 정수 N을 입력하세요: \"))\n",
        "sum = 0\n",
        "for i in range(1,n+1):\n",
        "  sum += i\n",
        "print(f\"총합은 {sum}입니다.\")\n",
        "\n",
        "#가우스 계산법\n",
        "n = int(input(\"양의 정수 N을 입력하세요: \"))\n",
        "sum = n*(n+1)//2\n",
        "print(f\"총합은 {sum}입니다.\")"
      ],
      "metadata": {
        "colab": {
          "base_uri": "https://localhost:8080/"
        },
        "id": "VBM4jcw7oq-S",
        "outputId": "1dca7876-1efd-4ece-98e1-79f0c3af56e2"
      },
      "execution_count": 57,
      "outputs": [
        {
          "output_type": "stream",
          "name": "stdout",
          "text": [
            "양의 정수 N을 입력하세요: 2\n",
            "총합은 3입니다.\n",
            "양의 정수 N을 입력하세요: 4\n",
            "총합은 10입니다.\n"
          ]
        }
      ]
    },
    {
      "cell_type": "code",
      "source": [
        "count = 0\n",
        "print(\"0부터 9까지 출력: \")\n",
        "for i in range(0,10):\n",
        "  print(count)\n",
        "  count+=1\n",
        "print(\"for 루프 종료\")\n",
        ""
      ],
      "metadata": {
        "colab": {
          "base_uri": "https://localhost:8080/"
        },
        "id": "ocGajiwlrZSf",
        "outputId": "15b9972f-ad8d-48e6-ce35-c0f10fbe5361"
      },
      "execution_count": 62,
      "outputs": [
        {
          "output_type": "stream",
          "name": "stdout",
          "text": [
            "0부터 9까지 출력: \n",
            "0\n",
            "1\n",
            "2\n",
            "3\n",
            "4\n",
            "5\n",
            "6\n",
            "7\n",
            "8\n",
            "9\n",
            "for 루프 종료\n"
          ]
        }
      ]
    }
  ]
}