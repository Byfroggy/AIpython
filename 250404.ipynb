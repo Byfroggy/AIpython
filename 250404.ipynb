{
  "nbformat": 4,
  "nbformat_minor": 0,
  "metadata": {
    "colab": {
      "provenance": [],
      "authorship_tag": "ABX9TyOEVY9PVo8CQ8TKykxr2wNp",
      "include_colab_link": true
    },
    "kernelspec": {
      "name": "python3",
      "display_name": "Python 3"
    },
    "language_info": {
      "name": "python"
    }
  },
  "cells": [
    {
      "cell_type": "markdown",
      "metadata": {
        "id": "view-in-github",
        "colab_type": "text"
      },
      "source": [
        "<a href=\"https://colab.research.google.com/github/Byfroggy/AIpython/blob/main/250404.ipynb\" target=\"_parent\"><img src=\"https://colab.research.google.com/assets/colab-badge.svg\" alt=\"Open In Colab\"/></a>"
      ]
    },
    {
      "cell_type": "code",
      "source": [
        "kind = input(\"온도 종류(섭씨 또는 화씨): \")\n",
        "temp = int(input(kind+\" 온도: \"))\n",
        "\n",
        "if kind=='섭씨':\n",
        "  print(f\"화씨 온도 %.2f\" % (temp*9/5+32))\n",
        "else:\n",
        "  print(f\"섭씨 온도 %.2f\" % ((temp-32)*5/9))\n"
      ],
      "metadata": {
        "colab": {
          "base_uri": "https://localhost:8080/"
        },
        "id": "LX2uptTdWz6x",
        "outputId": "47e5f806-d895-466a-f7eb-357e96e8c7ef"
      },
      "execution_count": 6,
      "outputs": [
        {
          "output_type": "stream",
          "name": "stdout",
          "text": [
            "온도 종류(섭씨 또는 화씨): 섭씨\n",
            "섭씨 온도: 55\n",
            "화씨 온도 131.00\n"
          ]
        }
      ]
    },
    {
      "cell_type": "code",
      "source": [
        "import random\n",
        "answer = random.randint(1,100)\n",
        "print(answer)\n",
        "times = 0\n",
        "\n",
        "while True:\n",
        "  user = int(input(\"정답을 입력하세요: \"))\n",
        "  times += 1\n",
        "  if user == answer:\n",
        "    break\n",
        "  elif user > answer:\n",
        "    print(f\"{user}보다 작습니다.\")\n",
        "  else:\n",
        "    print(f\"{user}보다 큽니다.\")\n",
        "\n",
        "print(f\"정답입니다. {times}회만에 맞췄습니다.\")"
      ],
      "metadata": {
        "colab": {
          "base_uri": "https://localhost:8080/"
        },
        "id": "39JUnKDjdXmj",
        "outputId": "01592570-156c-40d9-8847-ff5bdc98861f"
      },
      "execution_count": 10,
      "outputs": [
        {
          "output_type": "stream",
          "name": "stdout",
          "text": [
            "30\n",
            "정답을 입력하세요: 30\n",
            "정답입니다. 1회만에 맞췄습니다.\n"
          ]
        }
      ]
    },
    {
      "cell_type": "code",
      "source": [
        "low, high = 1, 100\n",
        "times = 0\n",
        "\n",
        "print(\"당신이 생각한 수를 맞춰보겠습니다. 1에서 100까지의 수 중 하나를 정해주세요.\")\n",
        "\n",
        "while True:\n",
        "  num=low+high//2\n",
        "  answer = input(f\"{num}인가요? (ok/up/down)\")\n",
        "  times += 1\n",
        "  if answer == 'ok':\n",
        "    break\n",
        "  elif answer == 'down':\n",
        "    high = num-1\n",
        "  else:\n",
        "    low = num+1\n",
        "\n",
        "print(f\"정답은 {answer}였군요. {times}회만에 맞췄습니다.\")\n",
        "\n"
      ],
      "metadata": {
        "colab": {
          "base_uri": "https://localhost:8080/"
        },
        "id": "oz-cZIhsg-99",
        "outputId": "7aeebcff-9312-4286-80f4-97fb162c5f5e"
      },
      "execution_count": 13,
      "outputs": [
        {
          "output_type": "stream",
          "name": "stdout",
          "text": [
            "당신이 생각한 수를 맞춰보겠습니다. 1에서 100까지의 수 중 하나를 정해주세요.\n",
            "정답은 51인가요? (ok/up/down)down\n",
            "정답은 26인가요? (ok/up/down)down\n",
            "정답은 13인가요? (ok/up/down)down\n",
            "정답은 7인가요? (ok/up/down)ok\n",
            "정답은 ok였군요. 4회만에 맞췄습니다.\n"
          ]
        }
      ]
    },
    {
      "cell_type": "code",
      "source": [
        "numbers = [1,2,3,4,5,6,7,8,9]\n",
        "\n",
        "for num in numbers:\n",
        "  print(num)"
      ],
      "metadata": {
        "colab": {
          "base_uri": "https://localhost:8080/"
        },
        "id": "FV6qQp1JlBdq",
        "outputId": "5557833e-d71f-4eca-d70e-a122d7895ac9"
      },
      "execution_count": 15,
      "outputs": [
        {
          "output_type": "stream",
          "name": "stdout",
          "text": [
            "1\n",
            "2\n",
            "3\n",
            "4\n",
            "5\n",
            "6\n",
            "7\n",
            "8\n",
            "9\n"
          ]
        }
      ]
    },
    {
      "cell_type": "code",
      "source": [
        "#제어문을 활용해 총합과 평균 구하기\n",
        "\n",
        "성적 = [45, 92, 78, 90, 87]\n",
        "\n",
        "#총합\n",
        "sum = 0\n",
        "for i in 성적:\n",
        "  sum += i\n",
        "\n",
        "print(f\"총합: {sum}\")\n",
        "print(f\"평균: {sum/len(성적)}\")"
      ],
      "metadata": {
        "colab": {
          "base_uri": "https://localhost:8080/"
        },
        "id": "xOdLmDJtuFbw",
        "outputId": "578191be-d413-468a-e9c4-306d2c16a66c"
      },
      "execution_count": 31,
      "outputs": [
        {
          "output_type": "stream",
          "name": "stdout",
          "text": [
            "총합: 392\n",
            "평균: 78.4\n"
          ]
        }
      ]
    },
    {
      "cell_type": "code",
      "source": [
        "fruits = [\"사과\", \"바나나\", \"딸기\", \"포도\"]\n",
        "print(f\"과일 리스트: {fruits}\")\n",
        "last_fruit = fruits[-1]\n",
        "print(f\"마지막 과일: {last_fruit}\")\n",
        "print()\n",
        "\n",
        "\n",
        "print(f\"원래 리스트: {fruits}\")\n",
        "fruits.append(\"오렌지\")\n",
        "print(f\"요소 추가한 리스트: {fruits}\")\n",
        "fruits.remove(\"바나나\")\n",
        "print(f\"요소 제거한 리스트: {fruits}\")\n",
        "print()\n",
        "\n",
        "\n",
        "print(\"리스트의 요소: \")\n",
        "for i in fruits:\n",
        "  print(i)\n",
        "print()\n",
        "\n",
        "\n",
        "print(f\"원래 리스트의 요소: {fruits}\")\n",
        "fruits[1] = '석류'\n",
        "print(f\"바뀐 리스트의 요소: {fruits}\")"
      ],
      "metadata": {
        "colab": {
          "base_uri": "https://localhost:8080/"
        },
        "id": "9OV9FoJ0wtZC",
        "outputId": "090edf6b-3aaf-41f8-a315-90710cb0ac54"
      },
      "execution_count": 47,
      "outputs": [
        {
          "output_type": "stream",
          "name": "stdout",
          "text": [
            "과일 리스트: ['사과', '바나나', '딸기', '포도']\n",
            "마지막 과일: 포도\n",
            "\n",
            "원래 리스트: ['사과', '바나나', '딸기', '포도']\n",
            "요소 추가한 리스트: ['사과', '바나나', '딸기', '포도', '오렌지']\n",
            "요소 제거한 리스트: ['사과', '딸기', '포도', '오렌지']\n",
            "\n",
            "리스트의 요소: \n",
            "사과\n",
            "딸기\n",
            "포도\n",
            "오렌지\n",
            "\n",
            "원래 리스트의 요소: ['사과', '딸기', '포도', '오렌지']\n",
            "바뀐 리스트의 요소: ['사과', '석류', '포도', '오렌지']\n"
          ]
        }
      ]
    }
  ]
}