{
  "nbformat": 4,
  "nbformat_minor": 0,
  "metadata": {
    "colab": {
      "provenance": [],
      "authorship_tag": "ABX9TyNwvad0q+Hqwf/bNim4ySi9",
      "include_colab_link": true
    },
    "kernelspec": {
      "name": "python3",
      "display_name": "Python 3"
    },
    "language_info": {
      "name": "python"
    }
  },
  "cells": [
    {
      "cell_type": "markdown",
      "metadata": {
        "id": "view-in-github",
        "colab_type": "text"
      },
      "source": [
        "<a href=\"https://colab.research.google.com/github/Byfroggy/AIpython/blob/main/250411.ipynb\" target=\"_parent\"><img src=\"https://colab.research.google.com/assets/colab-badge.svg\" alt=\"Open In Colab\"/></a>"
      ]
    },
    {
      "cell_type": "code",
      "execution_count": 12,
      "metadata": {
        "colab": {
          "base_uri": "https://localhost:8080/"
        },
        "id": "npYBkXrdZ1m0",
        "outputId": "d8786c45-6606-4475-a6b9-acaebfe779f7"
      },
      "outputs": [
        {
          "output_type": "stream",
          "name": "stdout",
          "text": [
            "남자\n"
          ]
        }
      ],
      "source": [
        "id='030330-3849911'\n",
        "\n",
        "idGender = id[7:8]\n",
        "if idGender=='1' or idGender=='3':\n",
        "  print(\"남자\")\n",
        "elif idGender=='2' or idGender=='4':\n",
        "  print(\"여자\")"
      ]
    },
    {
      "cell_type": "code",
      "source": [
        "s = input('문자열: ')\n",
        "for i in range(len(s)-1,-1,-1):\n",
        "  print(s[i], end='')"
      ],
      "metadata": {
        "colab": {
          "base_uri": "https://localhost:8080/"
        },
        "id": "SpDTDh_Yie-s",
        "outputId": "17fd4543-abc1-44a0-953d-1841a65e53bf"
      },
      "execution_count": 16,
      "outputs": [
        {
          "output_type": "stream",
          "name": "stdout",
          "text": [
            "문자열: asdfgh\n",
            "hgfdsa"
          ]
        }
      ]
    },
    {
      "cell_type": "code",
      "source": [
        "s = input('문자열: ')\n",
        "s2 = ''\n",
        "\n",
        "for i in range(len(s)-1,-1,-1):\n",
        "  s2 = s2 + s[i]\n",
        "\n",
        "if s == s2:\n",
        "  print('회문')\n",
        "else:\n",
        "  print('회문아님')"
      ],
      "metadata": {
        "colab": {
          "base_uri": "https://localhost:8080/"
        },
        "id": "gSesSJg0i7Rk",
        "outputId": "c3339108-57e1-45ed-d8aa-c297b6122ea7"
      },
      "execution_count": 18,
      "outputs": [
        {
          "output_type": "stream",
          "name": "stdout",
          "text": [
            "문자열: dfdf\n",
            "회문아님\n"
          ]
        }
      ]
    },
    {
      "cell_type": "code",
      "source": [
        "address = '부산시 금정구'\n",
        "\n",
        "print(address.split(' '))"
      ],
      "metadata": {
        "colab": {
          "base_uri": "https://localhost:8080/"
        },
        "id": "AB5LfEJroYNA",
        "outputId": "83a3e83d-6d39-4f53-f7a9-4b8a87e0a0ea"
      },
      "execution_count": 19,
      "outputs": [
        {
          "output_type": "stream",
          "name": "stdout",
          "text": [
            "['부산시', '금정구']\n"
          ]
        }
      ]
    },
    {
      "cell_type": "code",
      "source": [
        "code = input('비밀번호를 입력하세요: ')\n",
        "finish = False\n",
        "\n",
        "while finish == False:\n",
        "  if code.isalnum()==False:\n",
        "    code = input('알파벳과 숫자만 사용 가능합니다: ')\n",
        "  else:\n",
        "    if (code.isdigit()==True or code.isalpha()==True):\n",
        "      code = input('알파벳과 숫자를 조합해야 합니다: ')\n",
        "    else:\n",
        "      print(f'비밀번호가 확인되었습니다: {code}')\n",
        "      finish = True"
      ],
      "metadata": {
        "colab": {
          "base_uri": "https://localhost:8080/"
        },
        "id": "AEeUEraGqMFp",
        "outputId": "d9e3d389-5412-418c-ba75-afd10588d2a9"
      },
      "execution_count": 23,
      "outputs": [
        {
          "output_type": "stream",
          "name": "stdout",
          "text": [
            "비밀번호를 입력하세요: ea e\n",
            "알파벳과 숫자만 사용 가능합니다: adfㅇㅁㅇㅁ\n",
            "알파벳과 숫자를 조합해야 합니다: adfa\n",
            "알파벳과 숫자를 조합해야 합니다: ads2\n",
            "비밀번호가 확인되었습니다: ads2\n"
          ]
        }
      ]
    }
  ]
}